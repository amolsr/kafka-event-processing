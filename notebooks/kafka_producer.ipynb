{
 "cells": [
  {
   "cell_type": "code",
   "execution_count": null,
   "metadata": {},
   "outputs": [],
   "source": [
    "!pip install kafka-python confluent-kafka"
   ]
  },
  {
   "cell_type": "code",
   "execution_count": null,
   "metadata": {},
   "outputs": [],
   "source": [
    "from confluent_kafka.admin import AdminClient, NewTopic\n",
    "\n",
    "# Replace with your Kafka broker(s) configuration\n",
    "bootstrap_servers = 'localhost:9094'\n",
    "\n",
    "# Create an AdminClient with the Kafka broker(s) configuration\n",
    "admin_client = AdminClient({'bootstrap.servers': bootstrap_servers})\n",
    "\n",
    "# Define the topic you want to modify\n",
    "topic_name = 'topic_test'\n",
    "retention_ms = '6000'  # Replace with the desired retention period in milliseconds\n",
    "\n",
    "# Create a NewTopic object with the new configuration\n",
    "new_topic = NewTopic(topic_name, num_partitions=1, replication_factor=1, config={'retention.ms': retention_ms})\n",
    "\n",
    "# Call the create_topics method with the NewTopic object\n",
    "admin_client.create_topics([new_topic])"
   ]
  },
  {
   "cell_type": "code",
   "execution_count": null,
   "metadata": {},
   "outputs": [],
   "source": [
    "from time import sleep\n",
    "from json import dumps\n",
    "from kafka import KafkaProducer\n",
    "producer = KafkaProducer(\n",
    "    bootstrap_servers=['localhost:9094'],\n",
    "    value_serializer=lambda x: dumps(x).encode('utf-8'),\n",
    "    sasl_plain_username = 'user',\n",
    "    sasl_plain_password = 'password'\n",
    ")\n",
    "for j in range(9999):\n",
    "    data = {'counter': j}\n",
    "    res = producer.send('topic_test', value=data)\n",
    "    print(\"Iteration\", j)\n",
    "    sleep(0.5)"
   ]
  }
 ],
 "metadata": {
  "language_info": {
   "name": "python"
  },
  "orig_nbformat": 4
 },
 "nbformat": 4,
 "nbformat_minor": 2
}
