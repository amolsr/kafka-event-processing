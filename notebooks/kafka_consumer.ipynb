{
 "cells": [
  {
   "cell_type": "code",
   "execution_count": null,
   "metadata": {},
   "outputs": [],
   "source": [
    "from kafka import KafkaConsumer\n",
    "from json import loads\n",
    "from time import sleep\n",
    "consumer = KafkaConsumer(\n",
    "    'topic_test',\n",
    "    bootstrap_servers=['localhost:9094'],\n",
    "    auto_offset_reset='earliest',\n",
    "    enable_auto_commit=True,\n",
    "    value_deserializer=lambda x: loads(x.decode('utf-8')),\n",
    "    sasl_plain_username = 'user',\n",
    "    sasl_plain_password = 'password'\n",
    ")\n",
    "for event in consumer:\n",
    "    event_data = event.value\n",
    "    # Do whatever you want\n",
    "    print(event_data)\n",
    "    sleep(2)"
   ]
  },
  {
   "cell_type": "code",
   "execution_count": null,
   "metadata": {},
   "outputs": [],
   "source": [
    "from kafka import KafkaConsumer\n",
    "from json import loads\n",
    "from time import sleep\n",
    "consumer = KafkaConsumer(\n",
    "    'topic_test',\n",
    "    bootstrap_servers=['localhost:9094'],\n",
    "    auto_offset_reset='earliest',\n",
    "    enable_auto_commit=True,\n",
    "    value_deserializer=lambda x: loads(x.decode('utf-8')),\n",
    "    sasl_plain_username = 'user',\n",
    "    sasl_plain_password = 'password'\n",
    ")\n",
    "\n",
    "batch_size = 100  # Adjust this value to set your desired batch size\n",
    "\n",
    "try:\n",
    "    while True:\n",
    "        # Poll for new messages\n",
    "        batch = consumer.poll(max_records=batch_size, timeout_ms=1000)\n",
    "\n",
    "        if batch:\n",
    "            for message in batch.values():\n",
    "                # Your processing logic for each message\n",
    "                for i in message:\n",
    "                    print(\"Received message: {}\".format(i.value))\n",
    "            sleep(10)\n",
    "        else:\n",
    "            # Handle no messages received\n",
    "            print(\"No messages found in the batch.\")\n",
    "\n",
    "except KeyboardInterrupt:\n",
    "    # Close the consumer gracefully on Ctrl+C\n",
    "    consumer.close()"
   ]
  }
 ],
 "metadata": {
  "language_info": {
   "name": "python"
  },
  "orig_nbformat": 4
 },
 "nbformat": 4,
 "nbformat_minor": 2
}
